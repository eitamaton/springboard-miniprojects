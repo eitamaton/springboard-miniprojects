{
 "cells": [
  {
   "cell_type": "markdown",
   "metadata": {},
   "source": [
    "# What is the True Normal Human Body Temperature? \n",
    "\n",
    "#### Background\n",
    "\n",
    "The mean normal body temperature was held to be 37$^{\\circ}$C or 98.6$^{\\circ}$F for more than 120 years since it was first conceptualized and reported by Carl Wunderlich in a famous 1868 book. But, is this value statistically correct?"
   ]
  },
  {
   "cell_type": "markdown",
   "metadata": {},
   "source": [
    "<h3>Exercises</h3>\n",
    "\n",
    "<p>In this exercise, you will analyze a dataset of human body temperatures and employ the concepts of hypothesis testing, confidence intervals, and statistical significance.</p>\n",
    "\n",
    "<p>Answer the following questions <b>in this notebook below and submit to your Github account</b>.</p> \n",
    "\n",
    "<ol>\n",
    "<li>  Is the distribution of body temperatures normal? \n",
    "    <ul>\n",
    "    <li> Although this is not a requirement for the Central Limit Theorem to hold (read the introduction on Wikipedia's page about the CLT carefully: https://en.wikipedia.org/wiki/Central_limit_theorem), it gives us some peace of mind that the population may also be normally distributed if we assume that this sample is representative of the population.\n",
    "    <li> Think about the way you're going to check for the normality of the distribution. Graphical methods are usually used first, but there are also other ways: https://en.wikipedia.org/wiki/Normality_test\n",
    "    </ul>\n",
    "<li>  Is the sample size large? Are the observations independent?\n",
    "    <ul>\n",
    "    <li> Remember that this is a condition for the Central Limit Theorem, and hence the statistical tests we are using, to apply.\n",
    "    </ul>\n",
    "<li>  Is the true population mean really 98.6 degrees F?\n",
    "    <ul>\n",
    "    <li> First, try a bootstrap hypothesis test.\n",
    "    <li> Now, let's try frequentist statistical testing. Would you use a one-sample or two-sample test? Why?\n",
    "    <li> In this situation, is it appropriate to use the $t$ or $z$ statistic? \n",
    "    <li> Now try using the other test. How is the result be different? Why?\n",
    "    </ul>\n",
    "<li>  Draw a small sample of size 10 from the data and repeat both frequentist tests. \n",
    "    <ul>\n",
    "    <li> Which one is the correct one to use? \n",
    "    <li> What do you notice? What does this tell you about the difference in application of the $t$ and $z$ statistic?\n",
    "    </ul>\n",
    "<li>  At what temperature should we consider someone's temperature to be \"abnormal\"?\n",
    "    <ul>\n",
    "    <li> As in the previous example, try calculating everything using the boostrap approach, as well as the frequentist approach.\n",
    "    <li> Start by computing the margin of error and confidence interval. When calculating the confidence interval, keep in mind that you should use the appropriate formula for one draw, and not N draws.\n",
    "    </ul>\n",
    "<li>  Is there a significant difference between males and females in normal temperature?\n",
    "    <ul>\n",
    "    <li> What testing approach did you use and why?\n",
    "    <li> Write a story with your conclusion in the context of the original problem.\n",
    "    </ul>\n",
    "</ol>\n",
    "\n",
    "You can include written notes in notebook cells using Markdown: \n",
    "   - In the control panel at the top, choose Cell > Cell Type > Markdown\n",
    "   - Markdown syntax: http://nestacms.com/docs/creating-content/markdown-cheat-sheet\n",
    "\n",
    "#### Resources\n",
    "\n",
    "+ Information and data sources: http://www.amstat.org/publications/jse/datasets/normtemp.txt, http://www.amstat.org/publications/jse/jse_data_archive.htm\n",
    "+ Markdown syntax: http://nestacms.com/docs/creating-content/markdown-cheat-sheet\n",
    "\n",
    "****"
   ]
  },
  {
   "cell_type": "code",
   "execution_count": 16,
   "metadata": {
    "collapsed": true
   },
   "outputs": [],
   "source": [
    "import pandas as pd\n",
    "\n",
    "df = pd.read_csv('data/human_body_temperature.csv')"
   ]
  },
  {
   "cell_type": "code",
   "execution_count": 17,
   "metadata": {
    "collapsed": true
   },
   "outputs": [],
   "source": [
    "# Your work here."
   ]
  },
  {
   "cell_type": "markdown",
   "metadata": {},
   "source": [
    "### Preliminaries"
   ]
  },
  {
   "cell_type": "code",
   "execution_count": 18,
   "metadata": {},
   "outputs": [],
   "source": [
    "import math\n",
    "import matplotlib.pyplot as plt\n",
    "import numpy as np\n",
    "import scipy.stats as stats\n",
    "from matplotlib import mlab\n",
    "import seaborn as sns\n",
    "\n",
    "np.random.seed(42)"
   ]
  },
  {
   "cell_type": "code",
   "execution_count": 19,
   "metadata": {},
   "outputs": [
    {
     "data": {
      "text/html": [
       "<div>\n",
       "<style scoped>\n",
       "    .dataframe tbody tr th:only-of-type {\n",
       "        vertical-align: middle;\n",
       "    }\n",
       "\n",
       "    .dataframe tbody tr th {\n",
       "        vertical-align: top;\n",
       "    }\n",
       "\n",
       "    .dataframe thead th {\n",
       "        text-align: right;\n",
       "    }\n",
       "</style>\n",
       "<table border=\"1\" class=\"dataframe\">\n",
       "  <thead>\n",
       "    <tr style=\"text-align: right;\">\n",
       "      <th></th>\n",
       "      <th>temperature</th>\n",
       "      <th>gender</th>\n",
       "      <th>heart_rate</th>\n",
       "    </tr>\n",
       "  </thead>\n",
       "  <tbody>\n",
       "    <tr>\n",
       "      <th>0</th>\n",
       "      <td>99.3</td>\n",
       "      <td>F</td>\n",
       "      <td>68.0</td>\n",
       "    </tr>\n",
       "    <tr>\n",
       "      <th>1</th>\n",
       "      <td>98.4</td>\n",
       "      <td>F</td>\n",
       "      <td>81.0</td>\n",
       "    </tr>\n",
       "    <tr>\n",
       "      <th>2</th>\n",
       "      <td>97.8</td>\n",
       "      <td>M</td>\n",
       "      <td>73.0</td>\n",
       "    </tr>\n",
       "    <tr>\n",
       "      <th>3</th>\n",
       "      <td>99.2</td>\n",
       "      <td>F</td>\n",
       "      <td>66.0</td>\n",
       "    </tr>\n",
       "    <tr>\n",
       "      <th>4</th>\n",
       "      <td>98.0</td>\n",
       "      <td>F</td>\n",
       "      <td>73.0</td>\n",
       "    </tr>\n",
       "  </tbody>\n",
       "</table>\n",
       "</div>"
      ],
      "text/plain": [
       "   temperature gender  heart_rate\n",
       "0         99.3      F        68.0\n",
       "1         98.4      F        81.0\n",
       "2         97.8      M        73.0\n",
       "3         99.2      F        66.0\n",
       "4         98.0      F        73.0"
      ]
     },
     "execution_count": 19,
     "metadata": {},
     "output_type": "execute_result"
    }
   ],
   "source": [
    "df.head()"
   ]
  },
  {
   "cell_type": "code",
   "execution_count": 20,
   "metadata": {},
   "outputs": [
    {
     "name": "stdout",
     "output_type": "stream",
     "text": [
      "<class 'pandas.core.frame.DataFrame'>\n",
      "RangeIndex: 130 entries, 0 to 129\n",
      "Data columns (total 3 columns):\n",
      "temperature    130 non-null float64\n",
      "gender         130 non-null object\n",
      "heart_rate     130 non-null float64\n",
      "dtypes: float64(2), object(1)\n",
      "memory usage: 3.1+ KB\n"
     ]
    }
   ],
   "source": [
    "df.info()"
   ]
  },
  {
   "cell_type": "code",
   "execution_count": 21,
   "metadata": {},
   "outputs": [
    {
     "data": {
      "text/html": [
       "<div>\n",
       "<style scoped>\n",
       "    .dataframe tbody tr th:only-of-type {\n",
       "        vertical-align: middle;\n",
       "    }\n",
       "\n",
       "    .dataframe tbody tr th {\n",
       "        vertical-align: top;\n",
       "    }\n",
       "\n",
       "    .dataframe thead th {\n",
       "        text-align: right;\n",
       "    }\n",
       "</style>\n",
       "<table border=\"1\" class=\"dataframe\">\n",
       "  <thead>\n",
       "    <tr style=\"text-align: right;\">\n",
       "      <th></th>\n",
       "      <th>temperature</th>\n",
       "      <th>heart_rate</th>\n",
       "    </tr>\n",
       "  </thead>\n",
       "  <tbody>\n",
       "    <tr>\n",
       "      <th>count</th>\n",
       "      <td>130.000000</td>\n",
       "      <td>130.000000</td>\n",
       "    </tr>\n",
       "    <tr>\n",
       "      <th>mean</th>\n",
       "      <td>98.249231</td>\n",
       "      <td>73.761538</td>\n",
       "    </tr>\n",
       "    <tr>\n",
       "      <th>std</th>\n",
       "      <td>0.733183</td>\n",
       "      <td>7.062077</td>\n",
       "    </tr>\n",
       "    <tr>\n",
       "      <th>min</th>\n",
       "      <td>96.300000</td>\n",
       "      <td>57.000000</td>\n",
       "    </tr>\n",
       "    <tr>\n",
       "      <th>25%</th>\n",
       "      <td>97.800000</td>\n",
       "      <td>69.000000</td>\n",
       "    </tr>\n",
       "    <tr>\n",
       "      <th>50%</th>\n",
       "      <td>98.300000</td>\n",
       "      <td>74.000000</td>\n",
       "    </tr>\n",
       "    <tr>\n",
       "      <th>75%</th>\n",
       "      <td>98.700000</td>\n",
       "      <td>79.000000</td>\n",
       "    </tr>\n",
       "    <tr>\n",
       "      <th>max</th>\n",
       "      <td>100.800000</td>\n",
       "      <td>89.000000</td>\n",
       "    </tr>\n",
       "  </tbody>\n",
       "</table>\n",
       "</div>"
      ],
      "text/plain": [
       "       temperature  heart_rate\n",
       "count   130.000000  130.000000\n",
       "mean     98.249231   73.761538\n",
       "std       0.733183    7.062077\n",
       "min      96.300000   57.000000\n",
       "25%      97.800000   69.000000\n",
       "50%      98.300000   74.000000\n",
       "75%      98.700000   79.000000\n",
       "max     100.800000   89.000000"
      ]
     },
     "execution_count": 21,
     "metadata": {},
     "output_type": "execute_result"
    }
   ],
   "source": [
    "df.describe()"
   ]
  },
  {
   "cell_type": "markdown",
   "metadata": {},
   "source": [
    "## 1. Is the distribution of body temperatures normal?"
   ]
  },
  {
   "cell_type": "markdown",
   "metadata": {},
   "source": [
    "### Qualitative and Graphical Methods"
   ]
  },
  {
   "cell_type": "markdown",
   "metadata": {},
   "source": [
    "#### Histogram Plot"
   ]
  },
  {
   "cell_type": "code",
   "execution_count": 22,
   "metadata": {},
   "outputs": [
    {
     "name": "stdout",
     "output_type": "stream",
     "text": [
      "The mean of the sample is 98.25 and its standard deviation is 0.73.\n"
     ]
    }
   ],
   "source": [
    "# (x_th_pdf, y_th_pdf) is the pdf for N(temp_mean, temp_std ** 2)\n",
    "\n",
    "temp = df.temperature # Temperature Sample\n",
    "\n",
    "temp_mean = np.mean(temp) # Sample Mean\n",
    "temp_std = np.std(temp) # Sample Standard Deviation\n",
    "\n",
    "x_init = np.linspace((min(temp) - temp_mean) / temp_std , \\\n",
    "                    (max(temp) - temp_mean) / temp_std , \\\n",
    "                    (len(temp))) # min z-score in sample range to max z-score in sample range\n",
    "y_init = stats.norm.pdf(x_init) # N(0, 1) over x_init\n",
    "\n",
    "x_th_pdf = x_init * temp_std + temp_mean # Scale x_init to sample range\n",
    "y_th_pdf = y_init / temp_std # Normalization\n",
    "\n",
    "print('The mean of the sample is %.2f and its standard deviation is %.2f.' % (temp_mean, temp_std))"
   ]
  },
  {
   "cell_type": "code",
   "execution_count": 23,
   "metadata": {},
   "outputs": [
    {
     "data": {
      "image/png": "[encoded data removed]",
      "text/plain": [
       "<Figure size 720x432 with 4 Axes>"
      ]
     },
     "metadata": {
      "needs_background": "light"
     },
     "output_type": "display_data"
    }
   ],
   "source": [
    "# Plot normed histograms with various bin sizes. Overlay the theoretical pdf N(temp_mean, temp_std **2)\n",
    "_ = plt.subplots(figsize=(10,6))\n",
    "for i in range(4):\n",
    "    _ = plt.subplot(2,2,i+1)\n",
    "    _ = plt.hist(temp, bins=5*i+10, density=True)\n",
    "    _ = plt.plot(x_th_pdf, y_th_pdf)\n",
    "    _ = plt.xlabel('Body Temperature (°F)')\n",
    "    _ = plt.ylabel('Density')\n",
    "plt.show()"
   ]
  },
  {
   "cell_type": "markdown",
   "metadata": {},
   "source": [
    "The distribution of body temperatures could be normal but it seems a bit skew when viewing a histogram."
   ]
  },
  {
   "cell_type": "markdown",
   "metadata": {},
   "source": [
    "#### Empirical Cumulative Distribution Function (ECDF)"
   ]
  },
  {
   "cell_type": "code",
   "execution_count": 24,
   "metadata": {},
   "outputs": [
    {
     "data": {
      "image/png": "[encoded data removed]",
      "text/plain": [
       "<Figure size 864x576 with 1 Axes>"
      ]
     },
     "metadata": {
      "needs_background": "light"
     },
     "output_type": "display_data"
    }
   ],
   "source": [
    "# ECDF function from DataCamp course:\n",
    "\n",
    "def ecdf(data):\n",
    "    \"\"\"Compute ECDF for a one-dimensional array of measurements.\"\"\"\n",
    "    # Number of data points: n\n",
    "    n = len(data)\n",
    "\n",
    "    # x-data for the ECDF: x\n",
    "    x = np.sort(data)\n",
    "\n",
    "    # y-data for the ECDF: y\n",
    "    y = np.arange(1, n+1) / n\n",
    "\n",
    "    return x, y\n",
    "\n",
    "# Plot the ecdf. Overlay the theoretical cdf N(temp_mean, temp_std **2)\n",
    "\n",
    "x_temp, y_temp = ecdf(temp)\n",
    "\n",
    "x_th_cdf = x_init * temp_std + temp_mean\n",
    "y_th_cdf = stats.norm.cdf(x_init)\n",
    "\n",
    "_ = plt.figure(figsize=(12,8))\n",
    "_ = plt.plot(x_temp, y_temp, marker = \".\", linestyle = 'none', label='ECDF')\n",
    "_ = plt.plot(x_th_cdf, y_th_cdf, label='Theoretical CDF')\n",
    "_ = plt.xlabel('Body Temperature (°F)')\n",
    "_ = plt.ylabel('ECDF')\n",
    "_ = plt.legend(loc='upper left')"
   ]
  },
  {
   "cell_type": "markdown",
   "metadata": {},
   "source": [
    "There is a bit of deviation but the plot looks close to the theoretical curve."
   ]
  },
  {
   "cell_type": "markdown",
   "metadata": {},
   "source": [
    "#### Normal Probability Plot\n",
    "\n",
    "A [normal probability plot](https://en.wikipedia.org/wiki/Normal_probability_plot) is a type of [Q-Q plot](https://en.wikipedia.org/wiki/Q–Q_plot) used to check for substantive departures from normality."
   ]
  },
  {
   "cell_type": "code",
   "execution_count": 25,
   "metadata": {},
   "outputs": [
    {
     "data": {
      "image/png": "[encoded data removed]",
      "text/plain": [
       "<Figure size 864x576 with 1 Axes>"
      ]
     },
     "metadata": {
      "needs_background": "light"
     },
     "output_type": "display_data"
    }
   ],
   "source": [
    "_ = plt.figure(figsize=(12,8))\n",
    "_ = stats.probplot(temp, plot=plt)\n",
    "\n",
    "_ = plt.ylabel('Body Temperature (°F)')"
   ]
  },
  {
   "cell_type": "markdown",
   "metadata": {},
   "source": [
    "Aside from a few deviations near the ends of the straight line segment, the sample exhibits few departures from normality."
   ]
  },
  {
   "cell_type": "markdown",
   "metadata": {},
   "source": [
    "### Quantitative and Numerical Methods"
   ]
  },
  {
   "cell_type": "markdown",
   "metadata": {},
   "source": [
    "We will perform a few quantitative normality tests.\n",
    "Let\n",
    "\n",
    "$H_0$ : The distribution of body temperatures is normal\n",
    "\n",
    "$H_1$ : The distribution of body temperatures is not normal\n",
    "\n",
    "Level of significance $\\alpha = 0.05$"
   ]
  },
  {
   "cell_type": "code",
   "execution_count": 26,
   "metadata": {},
   "outputs": [],
   "source": [
    "alpha = 0.05"
   ]
  },
  {
   "cell_type": "markdown",
   "metadata": {},
   "source": [
    "#### Shapiro-Wilk\n",
    "\n",
    "The [Shapiro-Wilk test of normality](https://en.wikipedia.org/wiki/Shapiro–Wilk_test) computes a test statistic $W$, where $W \\in [0,1]$, and small values of $W$ lead to a rejection of normality while values of $W$ near one indicate normality. The [stats.shapiro scipy function](https://docs.scipy.org/doc/scipy/reference/generated/scipy.stats.shapiro.html) additionally provides a $p$-value $p = P( x \\geq W \\ | \\ H_0 \\text{ is true})$. \n",
    "\n",
    "Of the normality tests considered in [1], Shapiro-Wilk is the most powerful normality test at a given level of significance.\n",
    "\n",
    "[1] [Razali, Nornadiah; Wah, Yap Bee (2011). \"Power comparisons of Shapiro–Wilk, Kolmogorov–Smirnov, Lilliefors and Anderson–Darling tests\" (PDF). Journal of Statistical Modeling and Analytics. 2 (1): 21–33](https://web.archive.org/web/20150630110326/http://instatmy.org.my/downloads/e-jurnal%202/3.pdf)"
   ]
  },
  {
   "cell_type": "code",
   "execution_count": 27,
   "metadata": {},
   "outputs": [
    {
     "name": "stdout",
     "output_type": "stream",
     "text": [
      "The statistics are W = 0.987 and p = 0.233.\n",
      "Fail to reject H_0: The sample looks normal.\n"
     ]
    }
   ],
   "source": [
    "(W, p) = stats.shapiro(temp)\n",
    "\n",
    "print('The statistics are W = %.3f and p = %.3f.' % (W, p))\n",
    "\n",
    "if p > alpha:\n",
    "    print('Fail to reject H_0: The sample looks normal.')\n",
    "else:\n",
    "    print('Reject H_0: The sample does not look normal.')"
   ]
  },
  {
   "cell_type": "markdown",
   "metadata": {},
   "source": [
    "#### Anderson-Darling"
   ]
  },
  {
   "cell_type": "markdown",
   "metadata": {},
   "source": [
    "The [Anderson-Darling](https://en.wikipedia.org/wiki/Anderson–Darling_test) test of normality is the next most powerful normality test considered in [1]. It is a modification of the [Cramér-von Mises criterion](https://en.wikipedia.org/wiki/Cramér–von_Mises_criterion). The [stats.anderson scipy function](https://docs.scipy.org/doc/scipy/reference/generated/scipy.stats.anderson.html) provides the Anderson-Darling (AD) test statistic, critical values, and significance levels for the corresponding critical values.\n",
    "\n"
   ]
  },
  {
   "cell_type": "code",
   "execution_count": 28,
   "metadata": {},
   "outputs": [
    {
     "name": "stdout",
     "output_type": "stream",
     "text": [
      "AD test statistic: 0.520\n",
      "Significance: Critical Value\n",
      "15.0: 0.560; Fail to reject H_0: The sample looks normal.\n",
      "10.0: 0.637; Fail to reject H_0: The sample looks normal.\n",
      "5.0: 0.765; Fail to reject H_0: The sample looks normal.\n",
      "2.5: 0.892; Fail to reject H_0: The sample looks normal.\n",
      "1.0: 1.061; Fail to reject H_0: The sample looks normal.\n"
     ]
    }
   ],
   "source": [
    "ad = stats.anderson(temp)\n",
    "\n",
    "print('AD test statistic: %.3f' % ad.statistic)\n",
    "\n",
    "print('Significance: Critical Value')\n",
    "for i in range(len(ad.critical_values)):\n",
    "    sl, cv = ad.significance_level[i], ad.critical_values[i]\n",
    "    if ad.statistic < ad.critical_values[i]:\n",
    "        print('%.1f: %.3f; Fail to reject H_0: The sample looks normal.' % (sl, cv))\n",
    "    else:\n",
    "        print('%.1f: %.3f; Reject H_0: The sample does not look normal.' % (sl, cv))"
   ]
  },
  {
   "cell_type": "markdown",
   "metadata": {},
   "source": [
    "#### `stats.normaltest`\n",
    "\n",
    "Based on D’Agostino and Pearson’s test, scipy provides the [`stats.normaltest` function](https://docs.scipy.org/doc/scipy/reference/generated/scipy.stats.normaltest.html) which returns a test statistic and a p-value. "
   ]
  },
  {
   "cell_type": "code",
   "execution_count": 29,
   "metadata": {},
   "outputs": [
    {
     "name": "stdout",
     "output_type": "stream",
     "text": [
      "The statistics are stat = 2.704 and p = 0.259.\n",
      "Fail to reject H_0: The sample looks normal.\n"
     ]
    }
   ],
   "source": [
    "stat, p = stats.normaltest(temp)\n",
    "\n",
    "print('The statistics are stat = %.3f and p = %.3f.' % (stat, p))\n",
    "if p > alpha:\n",
    "    print('Fail to reject H_0: The sample looks normal.')\n",
    "else:\n",
    "    print('Reject H_0: The sample does not look normal.')"
   ]
  },
  {
   "cell_type": "markdown",
   "metadata": {},
   "source": [
    "The preceding discussion suggests that we should **fail to reject $H_0$**, that is, proceed with the hypothesis that the distribution of body temperatures is normal."
   ]
  },
  {
   "cell_type": "markdown",
   "metadata": {},
   "source": [
    "## 2. Is the sample size large? Are the observations independent?"
   ]
  },
  {
   "cell_type": "markdown",
   "metadata": {},
   "source": [
    "\n",
    "\n",
    "Since the sample size $n = 130$ is much less than 10% of the population of humans, this sample satisfies the \"10% Rule\" for independence. We will have to assume that there is no particular factor in the sample which should lead us to believe that the sample does not follow the population distribution of body temperatures.\n",
    "\n",
    "Our sample size $n$ is sufficiently large to use the CLT, as $n \\geq 30$, the sample is unimodal, and $n$ meets the 10% Rule."
   ]
  },
  {
   "cell_type": "code",
   "execution_count": 30,
   "metadata": {},
   "outputs": [
    {
     "data": {
      "text/plain": [
       "130"
      ]
     },
     "execution_count": 30,
     "metadata": {},
     "output_type": "execute_result"
    }
   ],
   "source": [
    "n = len(temp)\n",
    "n"
   ]
  },
  {
   "cell_type": "markdown",
   "metadata": {},
   "source": [
    "## 3. Is the true population mean really 98.6 degrees F?\n",
    "\n",
    "Let's state our hypotheses. Since Wunderlich's measurement prevailed for over 120 years, we will take his measurement of the population mean to be the value in our null hypothesis. For $\\mu$, the population mean,\n",
    "\n",
    "* $H_0$ : $\\mu = 98.6 \\ {}^\\circ{} F$\n",
    "* $H_1$ : $\\mu \\neq 98.6 \\ {}^\\circ{} F$.\n",
    "\n",
    "We proceed with level of significance $\\alpha = 0.05$."
   ]
  },
  {
   "cell_type": "code",
   "execution_count": 31,
   "metadata": {},
   "outputs": [],
   "source": [
    "mu0 = 98.6 # °F"
   ]
  },
  {
   "cell_type": "markdown",
   "metadata": {},
   "source": [
    "### Bootstrap Hypothesis Test"
   ]
  },
  {
   "cell_type": "code",
   "execution_count": 32,
   "metadata": {},
   "outputs": [
    {
     "data": {
      "image/png": "[encoded data removed]",
      "text/plain": [
       "<Figure size 864x576 with 1 Axes>"
      ]
     },
     "metadata": {
      "needs_background": "light"
     },
     "output_type": "display_data"
    }
   ],
   "source": [
    "temp_shifted = temp - temp_mean + mu0 # Shift Wunderlich's data to have mean mu0\n",
    "\n",
    "x_temp_shifted, y_temp_shifted = ecdf(temp_shifted)\n",
    "\n",
    "# Plot ECDFs of original and shifted data\n",
    "_ = plt.figure(figsize=(12,8))\n",
    "_ = plt.plot(x_temp, y_temp, marker = \".\", linestyle = 'none')\n",
    "_ = plt.plot(x_temp_shifted, y_temp_shifted, marker = \".\", linestyle = 'none')\n",
    "_ = plt.xlabel('Body Temperature (°F)')\n",
    "_ = plt.ylabel('ECDF')\n",
    "_ = plt.legend(['Wunderlich\\'s Data', 'Shifted'])"
   ]
  },
  {
   "cell_type": "markdown",
   "metadata": {},
   "source": [
    "Let's use bootstrapping to simulate data acquisition under $H_0$."
   ]
  },
  {
   "cell_type": "code",
   "execution_count": 33,
   "metadata": {},
   "outputs": [
    {
     "name": "stdout",
     "output_type": "stream",
     "text": [
      "The observed difference between the sample mean and the population mean of H_0 is -0.35 °F\n",
      "The p-value is 0.0000\n",
      "Reject H_0.\n"
     ]
    }
   ],
   "source": [
    "# draw_bs_reps function from DataCamp course:\n",
    "\n",
    "def bootstrap_replicate_1d(data, func):\n",
    "    return func(np.random.choice(data, size=len(data)))\n",
    "\n",
    "def draw_bs_reps(data, func, size=1):\n",
    "    \"\"\"Draw bootstrap replicates.\"\"\"\n",
    "\n",
    "    # Initialize array of replicates: bs_replicates\n",
    "    bs_replicates = np.empty(size)\n",
    "\n",
    "    # Generate replicates\n",
    "    for i in range(size):\n",
    "        bs_replicates[i] = bootstrap_replicate_1d(data, func)\n",
    "\n",
    "    return bs_replicates\n",
    "\n",
    "def diff_from_mu0(data, value=mu0):\n",
    "    return np.mean(data) - value\n",
    "\n",
    "diff_observed = diff_from_mu0(temp)\n",
    "\n",
    "print('The observed difference between the sample mean and the population mean of H_0 is %.2f °F' % diff_observed)\n",
    "\n",
    "bs_replicates = draw_bs_reps(temp_shifted, diff_from_mu0, 10000)\n",
    "\n",
    "p_value = np.sum(bs_replicates <= diff_observed) / len(bs_replicates)\n",
    "\n",
    "print('The p-value is %.4f' % p_value)\n",
    "\n",
    "if p_value > alpha:\n",
    "    print('Fail to reject H_0.')\n",
    "else:\n",
    "    print('Reject H_0.')"
   ]
  },
  {
   "cell_type": "code",
   "execution_count": 34,
   "metadata": {},
   "outputs": [
    {
     "data": {
      "image/png": "[encoded data removed]",
      "text/plain": [
       "<Figure size 864x576 with 1 Axes>"
      ]
     },
     "metadata": {
      "needs_background": "light"
     },
     "output_type": "display_data"
    }
   ],
   "source": [
    "_ = plt.figure(figsize=(12,8))\n",
    "_ = plt.hist(bs_replicates, bins=25)\n",
    "_ = plt.annotate('observed difference', xy=(diff_observed, 0), xytext=(-0.365, 600), arrowprops=dict(arrowstyle='->'))\n",
    "_ = plt.xlim(-0.4, 0.4)"
   ]
  },
  {
   "cell_type": "markdown",
   "metadata": {},
   "source": [
    "None of the 10,000 bootstrap replicates have an observed difference of magnitude at least 0.35. Given our assumptions about the sample, we should reject $H_0$, that is, we should reject $\\mu = 98.6 \\ {}^\\circ{} F$. We adopt $H_1$, that the population mean is not 98.6 °F."
   ]
  },
  {
   "cell_type": "markdown",
   "metadata": {},
   "source": [
    "### Frequentist Hypothesis Test"
   ]
  },
  {
   "cell_type": "markdown",
   "metadata": {},
   "source": [
    "Here we will assume the same $H_0$ and $H_1$ as we did in the Bootstrap Hypothesis Test. Since the data is a single sample, and we are comparing his sample to a single statistic, we use a (two-sided) one-sample test."
   ]
  },
  {
   "cell_type": "markdown",
   "metadata": {},
   "source": [
    "Since the sample meets the hypothesis for the CLT, we consider the sampling distribution of the sample mean to be approximately normal. Therefore we can use a $z$-test with the assumption that $\\sigma$ can be approximated by $s_\\bar{x}$. We compute the standard error of the mean, $\\sigma_{\\bar{x}}$ via \n",
    "$$\\sigma_{\\bar{x}} = \\frac{\\sigma}{\\sqrt{n}} \\approx \\frac{s_\\bar{x}}{\\sqrt{n}},$$\n",
    "and we compute a $z$-statistic via\n",
    "$$z_0 = \\frac{\\bar{x} - \\mu}{\\sigma_{\\bar{x}}}.$$\n",
    "We then compute the (two-tailed) $p$-value via\n",
    "$$\\begin{align}\n",
    "p &= P(z < -|z_0| \\text{ or } z > |z_0|) \\\\\n",
    "&= 1 - P(-|z_0| < z < |z_0|) \\\\\n",
    "&= 2 * (1 -  P(z < |z_0|)),\n",
    "\\end{align}$$\n",
    "where the last equality follows from the symmetry of the normal distribution."
   ]
  },
  {
   "cell_type": "code",
   "execution_count": 35,
   "metadata": {},
   "outputs": [
    {
     "name": "stdout",
     "output_type": "stream",
     "text": [
      "The z-statistic is -5.48 and the p-value is 0.000000044\n",
      "Reject H_0.\n"
     ]
    }
   ],
   "source": [
    "z_statistic = (temp_mean - mu0) / (temp_std / math.sqrt(n))\n",
    "p_value = 2 * (stats.norm.sf(abs(z_statistic))) # Two-tail; SF = 1 - CDF\n",
    "print('The z-statistic is %.2f and the p-value is %.9f' % (z_statistic, p_value))\n",
    "\n",
    "if p_value > alpha:\n",
    "    print('Fail to reject H_0.')\n",
    "else:\n",
    "    print('Reject H_0.')"
   ]
  },
  {
   "cell_type": "markdown",
   "metadata": {},
   "source": [
    "The result is that the $z$-statistic suggests the difference between $\\mu$ and $\\bar{x}$ is sufficient to reject $H_0$. We adopt the alternative hypothesis, that is, the mean human body temperature is not 98.6 °F."
   ]
  },
  {
   "cell_type": "markdown",
   "metadata": {},
   "source": [
    "#### What if we try to compute a $t$-statistic anyway?\n",
    "\n",
    "Despite the fact that we do not, a priori, know the population standard deviation $\\sigma$, our sample is sufficiently large ($n \\geq 30$) with a sufficiently normal distribution to meet the hypothesis of the CLT. So while a $z$-test is appropriate, we can use a $t$-test as well; given modern software, this is as straight-forward as applying the $z$-test. As the $t$-distribution converges to the normal distribution for large $n$, we should expect the same result using a $t$-test. We compute the $t$-statistic\n",
    "$$t_0 = \\frac{\\bar{x} - \\mu}{\\left(s_x / \\sqrt{n}\\right)},$$\n",
    "where $s_x$ is the sample standard deviation.\n",
    "\n",
    "We then compute the (two-tailed) $p$-value via\n",
    "$$\\begin{align}\n",
    "p &= P(t < -|t_0| \\text{ or } t > |t_0|) \\\\\n",
    "&= 1 - P(-|t_0| < t < |t_0|) \\\\\n",
    "&= 2 * (1 -  P(t < |t_0|)),\n",
    "\\end{align}$$\n",
    "where the last equality follows from the symmetry of the $t$-distribution."
   ]
  },
  {
   "cell_type": "code",
   "execution_count": 59,
   "metadata": {},
   "outputs": [
    {
     "name": "stdout",
     "output_type": "stream",
     "text": [
      "The t-statistic is -5.48 and the p-value is 0.000000219\n",
      "Reject H_0.\n"
     ]
    }
   ],
   "source": [
    "t_statistic = (temp_mean - mu0) / (temp_std / math.sqrt(n))\n",
    "p_value = 2 * (stats.t.sf(abs(t_statistic), n-1)) # Two-tail, SF = 1 - CDF\n",
    "print('The t-statistic is %.2f and the p-value is %.9f' % (t_statistic, p_value))\n",
    "\n",
    "if p_value > alpha:\n",
    "    print('Fail to reject H_0.')\n",
    "else:\n",
    "    print('Reject H_0.')"
   ]
  },
  {
   "cell_type": "markdown",
   "metadata": {},
   "source": [
    "## 4. Draw a small sample of size 10 from the data and repeat both frequentist tests."
   ]
  },
  {
   "cell_type": "code",
   "execution_count": 77,
   "metadata": {},
   "outputs": [],
   "source": [
    "small_sample = np.random.choice(temp, 10)\n",
    "\n",
    "small_sample_mean = np.mean(small_sample)\n",
    "small_sample_std = np.std(small_sample)"
   ]
  },
  {
   "cell_type": "markdown",
   "metadata": {},
   "source": [
    "### One-Sample to Compare Mean of `small_sample` to $\\mu$\n",
    "\n",
    "With a subsample of size 10, we no longer have grounds to believe that the hypothesis of the CLT is met. If we are ignorant of the data of the original sample (with $n = 130$), then we cannot presume the population distribution is normal. Therefore we should use a $t$-test."
   ]
  },
  {
   "cell_type": "code",
   "execution_count": 78,
   "metadata": {},
   "outputs": [
    {
     "name": "stdout",
     "output_type": "stream",
     "text": [
      "The t-statistic is -2.09 and the p-value is 0.0664837\n",
      "Fail to reject H_0.\n"
     ]
    }
   ],
   "source": [
    "def t_statistics_sample(data, pop_mean=mu0):\n",
    "    \"\"\"Compute the t-statistic and p-value for data.\"\"\"\n",
    "    t_stat = (np.mean(data) - mu0) / (np.std(data) / math.sqrt(len(data)))\n",
    "    p_val = 2 * (1 - stats.t.cdf(abs(t_stat), len(data)-1))\n",
    "    return t_stat, p_val\n",
    "\n",
    "t_statistic_small, p_value_small = t_statistics_sample(small_sample)\n",
    "print('The t-statistic is %.2f and the p-value is %.7f' % (t_statistic_small, p_value_small))\n",
    "\n",
    "if p_value_small > alpha:\n",
    "    print('Fail to reject H_0.')\n",
    "else:\n",
    "    print('Reject H_0.')"
   ]
  },
  {
   "cell_type": "markdown",
   "metadata": {},
   "source": [
    "This small sample gives us insufficient evidence to reject $H_0$. The $p$-value is much greater with this size 10 subsample. Additionally, we can investigate the likelihood of choosing a size 10 subsample with a sufficient $t$-statistic to reject $H_0$ using bootstrap samples."
   ]
  },
  {
   "cell_type": "code",
   "execution_count": 81,
   "metadata": {},
   "outputs": [
    {
     "data": {
      "image/png": "[encoded data removed]",
      "text/plain": [
       "<Figure size 864x576 with 1 Axes>"
      ]
     },
     "metadata": {
      "needs_background": "light"
     },
     "output_type": "display_data"
    }
   ],
   "source": [
    "bs_replicates = draw_bs_reps(np.random.choice(temp, 10), lambda x: t_statistics_sample(x)[0], 10000)\n",
    "_ = plt.figure(figsize=(12,8))\n",
    "_ = plt.hist(bs_replicates, bins=25)\n",
    "_ = plt.annotate('small_sample \\n t-statistic', xy=(t_statistic_small, 0), xytext=(-10, 500), arrowprops=dict(arrowstyle='->'))\n",
    "_ = plt.plot(stats.t.ppf([alpha, 1-alpha], 9), [0,0], linewidth=5.0)\n",
    "_ = plt.annotate('range of t-statistics \\n with p<0.05', xy=(0, 0), xytext=(-10, 1000), arrowprops=dict(arrowstyle='->'))"
   ]
  },
  {
   "cell_type": "code",
   "execution_count": 82,
   "metadata": {},
   "outputs": [
    {
     "name": "stdout",
     "output_type": "stream",
     "text": [
      "The proportion of bootstrap samples of size 10 subsamples with t-statistic sufficient to reject H_0 is 53.35%.\n"
     ]
    }
   ],
   "source": [
    "bs_replicates_p = 2 * (stats.t.sf(abs(bs_replicates), 10-1))\n",
    "prop = np.sum(bs_replicates_p <= alpha) / len(bs_replicates_p)\n",
    "print('The proportion of bootstrap samples of size 10 subsamples with t-statistic \\\n",
    "sufficient to reject H_0 is {:.2%}.'.format(prop))"
   ]
  },
  {
   "cell_type": "markdown",
   "metadata": {},
   "source": [
    "In other words, roughly 47% of the bootstrap samples in the space of size 10 subsamples we chose would have led us to fail to reject $H_0$. Although we should avoid considering this an estimate of the probability of choosing a size 10 subsample for which we would fail to reject $H_0$, as we do not discuss how bootstrapping estimates this distribution, we do find a non-negligible number of bootstrap samples which would have led us to reject $H_0$, showing that it is at least plausible that we could have selected such a size 10 subsample."
   ]
  },
  {
   "cell_type": "markdown",
   "metadata": {},
   "source": [
    "### What about the z-statistic?\n",
    "\n",
    "A $z$-test is not appropriate given our sample size is small (≤ 30) (also we do not know the population standard deviation $\\sigma$). To use a $z$-test we must proceed with the (unjustified for `small_sample`) assumption that the population human body temperatures are normally distributed and we will again use the sample standard deviation to approximate the population standard deviation."
   ]
  },
  {
   "cell_type": "code",
   "execution_count": 83,
   "metadata": {},
   "outputs": [
    {
     "name": "stdout",
     "output_type": "stream",
     "text": [
      "The z-statistic is -2.09 and the p-value is 0.0368694\n",
      "Reject H_0.\n"
     ]
    }
   ],
   "source": [
    "def z_statistics_sample(data, pop_mean=mu0):\n",
    "    \"\"\"Compute the t-statistic and p-value for data.\"\"\"\n",
    "    z_stat = (np.mean(data) - mu0) / (np.std(data) / math.sqrt(len(data)))\n",
    "    p_val = 2 * (stats.norm.sf(abs(z_stat)))\n",
    "    return z_stat, p_val\n",
    "\n",
    "z_statistic_small, p_value_small = z_statistics_sample(small_sample)\n",
    "print('The z-statistic is %.2f and the p-value is %.7f' % (z_statistic_small, p_value_small))\n",
    "\n",
    "if p_value_small > alpha:\n",
    "    print('Fail to reject H_0.')\n",
    "else:\n",
    "    print('Reject H_0.')"
   ]
  },
  {
   "cell_type": "markdown",
   "metadata": {},
   "source": [
    "The z-statistic leads us to reject $H_0$. Note that the $p$-values of the $t$-test and the $z$-test differ by a considerable factor.\n",
    "\n",
    "Let's again investigate the likelihood of choosing a size 10 subsample with a sufficient $z$-statistic to reject $H_0$ using bootstrap samples."
   ]
  },
  {
   "cell_type": "code",
   "execution_count": 65,
   "metadata": {},
   "outputs": [
    {
     "data": {
      "image/png": "[encoded data removed]",
      "text/plain": [
       "<Figure size 864x576 with 1 Axes>"
      ]
     },
     "metadata": {
      "needs_background": "light"
     },
     "output_type": "display_data"
    }
   ],
   "source": [
    "bs_replicates = draw_bs_reps(np.random.choice(temp, 10), lambda x: z_statistics_sample(x)[0], 10000)\n",
    "_ = plt.figure(figsize=(12,8))\n",
    "_ = plt.hist(bs_replicates, bins=25)\n",
    "_ = plt.annotate('small_sample \\n z-statistic', xy=(z_statistic_small, 0), xytext=(-10, 500), arrowprops=dict(arrowstyle='->'))\n",
    "_ = plt.plot(stats.norm.ppf([alpha, 1-alpha]), [0,0], linewidth=5.0)\n",
    "_ = plt.annotate('range of z-statistics \\n with p<0.05', xy=(0, 0), xytext=(-10, 1000), arrowprops=dict(arrowstyle='->'))"
   ]
  },
  {
   "cell_type": "code",
   "execution_count": 66,
   "metadata": {},
   "outputs": [
    {
     "name": "stdout",
     "output_type": "stream",
     "text": [
      "The proportion of bootstrap samples of size 10 subsamples with z-statistic sufficient to reject H_0 is 67.22%.\n"
     ]
    }
   ],
   "source": [
    "bs_replicates_p = 2 * (1 - stats.norm.cdf(abs(bs_replicates)))\n",
    "prop = np.sum(bs_replicates_p <= alpha) / len(bs_replicates_p)\n",
    "print('The proportion of bootstrap samples of size 10 subsamples with z-statistic \\\n",
    "sufficient to reject H_0 is {:.2%}.'.format(prop))"
   ]
  },
  {
   "cell_type": "markdown",
   "metadata": {},
   "source": [
    "Were we to use the $z$-statistic, there are many subsamples which would give a $z$-statistic sufficient to reject $H_0$ and a considerable number which give insufficient evidence to reject $H_0$."
   ]
  },
  {
   "cell_type": "markdown",
   "metadata": {},
   "source": [
    "## 5. At what temperature should we consider someone's temperature to be \"abnormal\"?"
   ]
  },
  {
   "cell_type": "markdown",
   "metadata": {},
   "source": [
    "### Bootstrap Approach"
   ]
  },
  {
   "cell_type": "markdown",
   "metadata": {},
   "source": [
    "Here we compute 95% and 99% confidence intervals for $\\bar{x}$ using the bootstrap approach. These will estimate the corresponding confidence intervals for the population mean. We could consider anything beyond the 99% confidence interval abnormal."
   ]
  },
  {
   "cell_type": "code",
   "execution_count": 86,
   "metadata": {},
   "outputs": [
    {
     "name": "stdout",
     "output_type": "stream",
     "text": [
      "The 95% confidence interval is 98.122 – 98.374\n",
      "The 99% confidence interval is 98.084 – 98.415\n"
     ]
    }
   ],
   "source": [
    "bs_replicates = draw_bs_reps(temp, np.mean, 10000)\n",
    "conf95 = np.percentile(bs_replicates, [2.5, 97.5])\n",
    "conf99 = np.percentile(bs_replicates, [0.5, 99.5])\n",
    "\n",
    "print('The 95%% confidence interval is %.3f – %.3f' % tuple(conf95))\n",
    "print('The 99%% confidence interval is %.3f – %.3f' % tuple(conf99))\n"
   ]
  },
  {
   "cell_type": "code",
   "execution_count": 89,
   "metadata": {},
   "outputs": [
    {
     "data": {
      "image/png": "[encoded data removed]",
      "text/plain": [
       "<Figure size 864x576 with 1 Axes>"
      ]
     },
     "metadata": {
      "needs_background": "light"
     },
     "output_type": "display_data"
    }
   ],
   "source": [
    "_ = plt.figure(figsize=(12,8))\n",
    "_ = plt.hist(bs_replicates, bins=50)\n",
    "_ = plt.plot(conf95, [12,12], linewidth=5.0, label='95% confidence interval')\n",
    "_ = plt.plot(conf99, [5,5], linewidth=5.0, label='99% confidence interval')\n",
    "_ = plt.legend()"
   ]
  },
  {
   "cell_type": "markdown",
   "metadata": {},
   "source": [
    "Note that $\\mu = 98.6 {}^\\circ F$ is considered abnormal."
   ]
  },
  {
   "cell_type": "markdown",
   "metadata": {},
   "source": [
    "### Frequentist Approach"
   ]
  },
  {
   "cell_type": "code",
   "execution_count": 46,
   "metadata": {},
   "outputs": [
    {
     "name": "stdout",
     "output_type": "stream",
     "text": [
      "The 95% confidence interval is 98.143 – 98.355\n",
      "The 99% confidence interval is 98.098 – 98.400\n"
     ]
    }
   ],
   "source": [
    "moe95 = stats.t.ppf(.95, n-1) # Margin of error for 95% CI\n",
    "moe99 = stats.t.ppf(.99, n-1) # Margin of error for 99% CI\n",
    "\n",
    "sem = temp_std / math.sqrt(n) # Std Error of the Mean (in sampling distr?)\n",
    "\n",
    "print('The 95%% confidence interval is %.3f – %.3f' % (temp_mean - moe95 * sem, temp_mean + moe95 * sem))\n",
    "print('The 99%% confidence interval is %.3f – %.3f' % (temp_mean - moe99 * sem, temp_mean + moe99 * sem))"
   ]
  },
  {
   "cell_type": "markdown",
   "metadata": {},
   "source": [
    "These confidence intervals are quite close to those we obtained using the Bootstrap Approach"
   ]
  },
  {
   "cell_type": "markdown",
   "metadata": {},
   "source": [
    "## 6. Is there a significant difference between males and females in normal temperature?"
   ]
  },
  {
   "cell_type": "code",
   "execution_count": 47,
   "metadata": {},
   "outputs": [
    {
     "name": "stdout",
     "output_type": "stream",
     "text": [
      "The mean male temperature is 98.105 °F and the mean female temperature is 98.394 °F, a difference of 0.289 °F.\n"
     ]
    }
   ],
   "source": [
    "male = df[df['gender'] == 'M']['temperature']\n",
    "female = df[df['gender'] == 'F']['temperature']\n",
    "\n",
    "male_mean = np.mean(male)\n",
    "female_mean = np.mean(female)\n",
    "\n",
    "male_std = np.std(male)\n",
    "female_std = np.std(female)\n",
    "\n",
    "print('The mean male temperature is %.3f °F and the mean female temperature is %.3f °F, a difference of %.3f °F.' % \\\n",
    "      (male_mean, female_mean, female_mean - male_mean))"
   ]
  },
  {
   "cell_type": "markdown",
   "metadata": {},
   "source": [
    "Call $s_{\\bar{x}_m}$ be the sample mean male temperature and $s_{\\bar{x}_f}$ the sample mean female temperature."
   ]
  },
  {
   "cell_type": "markdown",
   "metadata": {},
   "source": [
    "### Qualitative and Graphical"
   ]
  },
  {
   "cell_type": "markdown",
   "metadata": {},
   "source": [
    "Let's first give a boxplot and a swarmplot of the male and female distributions."
   ]
  },
  {
   "cell_type": "code",
   "execution_count": 48,
   "metadata": {},
   "outputs": [
    {
     "data": {
      "image/png": "[encoded data removed]",
      "text/plain": [
       "<Figure size 864x576 with 1 Axes>"
      ]
     },
     "metadata": {
      "needs_background": "light"
     },
     "output_type": "display_data"
    }
   ],
   "source": [
    "_ = plt.figure(figsize=(12,8))\n",
    "_ = sns.boxplot(x='gender', y='temperature', data=df)\n",
    "_ = plt.axhline(y=98.6, label='Wunderlich\\'s mean', color='k', linestyle='--')\n",
    "_ = plt.legend()"
   ]
  },
  {
   "cell_type": "code",
   "execution_count": 49,
   "metadata": {},
   "outputs": [
    {
     "data": {
      "image/png": "[encoded data removed]",
      "text/plain": [
       "<Figure size 864x576 with 1 Axes>"
      ]
     },
     "metadata": {
      "needs_background": "light"
     },
     "output_type": "display_data"
    }
   ],
   "source": [
    "_ = plt.figure(figsize=(12,8))\n",
    "_ = sns.swarmplot(x='gender', y='temperature', data=df)\n",
    "_ = plt.axhline(y=98.6, label='Wunderlich\\'s mean temperature', color='k', linestyle='--')\n",
    "_ = plt.axhline(y=male_mean, label='Male mean temperature', color='tab:orange', linestyle='--')\n",
    "_ = plt.axhline(y=female_mean, label='Female mean temperature', color='tab:blue', linestyle='--')\n",
    "_ = plt.legend()"
   ]
  },
  {
   "cell_type": "markdown",
   "metadata": {},
   "source": [
    "### Hypothesis Tests\n",
    "\n",
    "We would like to know test whether or not the male population mean temperature, $\\mu_m$, and the female population mean temperature, $\\mu_f$, are equal. So we will consider the following hypotheses:\n",
    "\n",
    "* $H_0$: $\\mu_f = \\mu_m \\Leftrightarrow \\mu_f - \\mu_m = \\mu_{f-m} = 0$\n",
    "* $H_1$: $\\mu_f \\neq \\mu_m \\Leftrightarrow \\mu_f - \\mu_m = \\mu_{f-m} \\neq 0$\n",
    "\n",
    "We proceed with level of significance $\\alpha = 0.05$."
   ]
  },
  {
   "cell_type": "markdown",
   "metadata": {},
   "source": [
    "#### Bootstrap Hypothesis Test\n",
    "\n",
    "We shift both samples to have the same mean, then draw bootstrap samples from the shifted arrays, computing their difference of means, in order to see how likely a difference of $\\bar{x}_f - \\bar{x}_m = 0.289 {}^\\circ F$, where $\\bar{x}_f$ is the mean of `female` and $\\bar{x}_m$ is the mean of `male`."
   ]
  },
  {
   "cell_type": "code",
   "execution_count": 50,
   "metadata": {},
   "outputs": [
    {
     "name": "stdout",
     "output_type": "stream",
     "text": [
      "The p-value is 0.0118\n",
      "Reject H_0.\n"
     ]
    }
   ],
   "source": [
    "female_shift = female - np.mean(female) + temp_mean\n",
    "male_shift = male - np.mean(male) + temp_mean\n",
    "\n",
    "bs_replicates_f = draw_bs_reps(female_shift, np.mean, 10000)\n",
    "bs_replicates_m = draw_bs_reps(male_shift, np.mean, 10000)\n",
    "\n",
    "bs_replicates = bs_replicates_f - bs_replicates_m\n",
    "\n",
    "p_value = np.sum(bs_replicates >= (female_mean - male_mean)) / len(bs_replicates)\n",
    "\n",
    "print('The p-value is %.4f' % p_value)\n",
    "\n",
    "if p_value > alpha:\n",
    "    print('Fail to reject H_0.')\n",
    "else:\n",
    "    print('Reject H_0.')"
   ]
  },
  {
   "cell_type": "markdown",
   "metadata": {},
   "source": [
    "#### Frequentist Hypothesis Test"
   ]
  },
  {
   "cell_type": "markdown",
   "metadata": {},
   "source": [
    "Now we will perform a two-sample $t$-test for the difference of means. This is the appropriate test because we do not know the underlying population standard deviations. Under the null hypothesis, the two-sample $t$-statistic is\n",
    "$$t = \\frac{(\\bar{x}_f - \\bar{x}_m) - (\\mu_f - \\mu_m)}{\\sqrt{\\frac{s^2_{\\bar{x}_f}}{n_f} + \\frac{s^2_{\\bar{x}_m}}{n_m}}}$$\n",
    "where $n_f$ and $n_m$ are the sizes and $s_f$ and $s_m$ are the standard deviations of the female and male samples, respectively."
   ]
  },
  {
   "cell_type": "code",
   "execution_count": 51,
   "metadata": {},
   "outputs": [
    {
     "name": "stdout",
     "output_type": "stream",
     "text": [
      "The p-value is 0.0122\n",
      "Reject H_0.\n"
     ]
    }
   ],
   "source": [
    "moe = stats.t.ppf(1-alpha, min(len(female), len(male)))\n",
    "\n",
    "sigma_diff = math.sqrt((female_std ** 2) / len(female) + (male_std ** 2) / len(male))\n",
    "\n",
    "p_value = stats.t.sf((female_mean - male_mean) / (sigma_diff), min(len(female), len(male)))\n",
    "\n",
    "print('The p-value is %.4f' % p_value)\n",
    "\n",
    "if p_value > alpha:\n",
    "    print('Fail to reject H_0.')\n",
    "else:\n",
    "    print('Reject H_0.')"
   ]
  },
  {
   "cell_type": "markdown",
   "metadata": {},
   "source": [
    "Both the bootstrap and the frequentist tests give similar $p$-values. It is unlikely that the difference in sample mean male and female temperatures is due to our sample. We accept the alternative hypothesis, that the population mean male and female body temperatures are not equal."
   ]
  }
 ],
 "metadata": {
  "kernelspec": {
   "display_name": "Python 3",
   "language": "python",
   "name": "python3"
  },
  "language_info": {
   "codemirror_mode": {
    "name": "ipython",
    "version": 3
   },
   "file_extension": ".py",
   "mimetype": "text/x-python",
   "name": "python",
   "nbconvert_exporter": "python",
   "pygments_lexer": "ipython3",
   "version": "3.7.0"
  }
 },
 "nbformat": 4,
 "nbformat_minor": 2
}
